{
 "cells": [
  {
   "cell_type": "code",
   "execution_count": 1,
   "metadata": {},
   "outputs": [],
   "source": [
    "import numpy as np\n",
    "from tensorflow import keras\n",
    "from tensorflow.keras import layers"
   ]
  },
  {
   "cell_type": "code",
   "execution_count": 2,
   "metadata": {},
   "outputs": [],
   "source": [
    "num_classes = 10\n",
    "input_shape = (28, 28, 1)"
   ]
  },
  {
   "cell_type": "code",
   "execution_count": 4,
   "metadata": {},
   "outputs": [],
   "source": [
    "(X_train, y_train), (X_test, y_test) = keras.datasets.mnist.load_data()"
   ]
  },
  {
   "cell_type": "code",
   "execution_count": 6,
   "metadata": {},
   "outputs": [
    {
     "name": "stdout",
     "output_type": "stream",
     "text": [
      "X_train shape (60000, 28, 28, 1, 1)\n",
      "60000 train samples\n",
      "10000 test samples\n"
     ]
    }
   ],
   "source": [
    "X_train = X_train.astype('float32') / 255\n",
    "X_test = X_test.astype('float32') / 255\n",
    "\n",
    "X_train = np.expand_dims(X_train, -1)\n",
    "X_test = np.expand_dims(X_test, -1)\n",
    "\n",
    "print('X_train shape', X_train.shape)\n",
    "print(X_train.shape[0], 'train samples')\n",
    "print(X_test.shape[0], 'test samples')"
   ]
  },
  {
   "cell_type": "code",
   "execution_count": 7,
   "metadata": {},
   "outputs": [],
   "source": [
    "y_train = keras.utils.to_categorical(y_train, num_classes)\n",
    "y_test = keras.utils.to_categorical(y_test, num_classes)"
   ]
  },
  {
   "cell_type": "code",
   "execution_count": 8,
   "metadata": {},
   "outputs": [
    {
     "name": "stdout",
     "output_type": "stream",
     "text": [
      "[[0. 0. 0. ... 0. 0. 0.]\n",
      " [1. 0. 0. ... 0. 0. 0.]\n",
      " [0. 0. 0. ... 0. 0. 0.]\n",
      " ...\n",
      " [0. 0. 0. ... 0. 0. 0.]\n",
      " [0. 0. 0. ... 0. 0. 0.]\n",
      " [0. 0. 0. ... 0. 1. 0.]]\n"
     ]
    }
   ],
   "source": [
    "print(y_train)"
   ]
  },
  {
   "cell_type": "code",
   "execution_count": 11,
   "metadata": {},
   "outputs": [
    {
     "name": "stdout",
     "output_type": "stream",
     "text": [
      "WARNING:tensorflow:Please add `keras.layers.InputLayer` instead of `keras.Input` to Sequential model. `keras.Input` is intended to be used by Functional model.\n",
      "Model: \"sequential\"\n",
      "_________________________________________________________________\n",
      "Layer (type)                 Output Shape              Param #   \n",
      "=================================================================\n",
      "conv2d (Conv2D)              (None, 26, 26, 32)        320       \n",
      "_________________________________________________________________\n",
      "max_pooling2d (MaxPooling2D) (None, 13, 13, 32)        0         \n",
      "_________________________________________________________________\n",
      "conv2d_1 (Conv2D)            (None, 11, 11, 64)        18496     \n",
      "_________________________________________________________________\n",
      "max_pooling2d_1 (MaxPooling2 (None, 5, 5, 64)          0         \n",
      "_________________________________________________________________\n",
      "flatten (Flatten)            (None, 1600)              0         \n",
      "_________________________________________________________________\n",
      "dropout (Dropout)            (None, 1600)              0         \n",
      "_________________________________________________________________\n",
      "dense (Dense)                (None, 10)                16010     \n",
      "=================================================================\n",
      "Total params: 34,826\n",
      "Trainable params: 34,826\n",
      "Non-trainable params: 0\n",
      "_________________________________________________________________\n"
     ]
    }
   ],
   "source": [
    "model = keras.Sequential(\n",
    "        [\n",
    "            keras.Input(shape = input_shape),\n",
    "            layers.Conv2D(32, kernel_size=(3,3), activation='relu'),\n",
    "            layers.MaxPooling2D(pool_size=(2,2)),\n",
    "            layers.Conv2D(64, kernel_size=(3,3), activation='relu'),\n",
    "            layers.MaxPooling2D(pool_size=(2,2)),\n",
    "            layers.Flatten(),\n",
    "            layers.Dropout(0.5),\n",
    "            layers.Dense(num_classes, activation='softmax'),\n",
    "        ]\n",
    ")\n",
    "model.summary()"
   ]
  },
  {
   "cell_type": "code",
   "execution_count": 12,
   "metadata": {},
   "outputs": [
    {
     "name": "stdout",
     "output_type": "stream",
     "text": [
      "Epoch 1/15\n",
      "375/375 [==============================] - 13s 33ms/step - loss: 1.5491 - accuracy: 0.5130 - val_loss: 0.5776 - val_accuracy: 0.8367\n",
      "Epoch 2/15\n",
      "375/375 [==============================] - 13s 34ms/step - loss: 0.5592 - accuracy: 0.8264 - val_loss: 0.3606 - val_accuracy: 0.8970\n",
      "Epoch 3/15\n",
      "375/375 [==============================] - 13s 35ms/step - loss: 0.4180 - accuracy: 0.8741 - val_loss: 0.2799 - val_accuracy: 0.9224\n",
      "Epoch 4/15\n",
      "375/375 [==============================] - 13s 35ms/step - loss: 0.3414 - accuracy: 0.8995 - val_loss: 0.2252 - val_accuracy: 0.9395\n",
      "Epoch 5/15\n",
      "375/375 [==============================] - 15s 39ms/step - loss: 0.2942 - accuracy: 0.9129 - val_loss: 0.1900 - val_accuracy: 0.9495\n",
      "Epoch 6/15\n",
      "375/375 [==============================] - 15s 39ms/step - loss: 0.2613 - accuracy: 0.9210 - val_loss: 0.1692 - val_accuracy: 0.9534\n",
      "Epoch 7/15\n",
      "375/375 [==============================] - 15s 39ms/step - loss: 0.2377 - accuracy: 0.9271 - val_loss: 0.1483 - val_accuracy: 0.9592\n",
      "Epoch 8/15\n",
      "375/375 [==============================] - 15s 39ms/step - loss: 0.2207 - accuracy: 0.9335 - val_loss: 0.1413 - val_accuracy: 0.9619\n",
      "Epoch 9/15\n",
      "375/375 [==============================] - 15s 39ms/step - loss: 0.2056 - accuracy: 0.9374 - val_loss: 0.1306 - val_accuracy: 0.9644\n",
      "Epoch 10/15\n",
      "375/375 [==============================] - 15s 39ms/step - loss: 0.1894 - accuracy: 0.9425 - val_loss: 0.1208 - val_accuracy: 0.9670\n",
      "Epoch 11/15\n",
      "375/375 [==============================] - 15s 39ms/step - loss: 0.1814 - accuracy: 0.9454 - val_loss: 0.1166 - val_accuracy: 0.9672\n",
      "Epoch 12/15\n",
      "375/375 [==============================] - 14s 39ms/step - loss: 0.1752 - accuracy: 0.9471 - val_loss: 0.1129 - val_accuracy: 0.9678\n",
      "Epoch 13/15\n",
      "375/375 [==============================] - 15s 39ms/step - loss: 0.1699 - accuracy: 0.9475 - val_loss: 0.1056 - val_accuracy: 0.9698\n",
      "Epoch 14/15\n",
      "375/375 [==============================] - 15s 39ms/step - loss: 0.1606 - accuracy: 0.9506 - val_loss: 0.1014 - val_accuracy: 0.9714\n",
      "Epoch 15/15\n",
      "375/375 [==============================] - 15s 39ms/step - loss: 0.1592 - accuracy: 0.9519 - val_loss: 0.1000 - val_accuracy: 0.9718\n"
     ]
    },
    {
     "data": {
      "text/plain": [
       "<tensorflow.python.keras.callbacks.History at 0x284818f08b0>"
      ]
     },
     "execution_count": 12,
     "metadata": {},
     "output_type": "execute_result"
    }
   ],
   "source": [
    "batch_size = 128\n",
    "epochs = 15\n",
    "\n",
    "model.compile(loss='categorical_crossentropy', optimizer='adam', metrics=['accuracy'])\n",
    "model.fit(X_train, y_train, batch_size=batch_size, epochs=epochs, validation_split=0.2)"
   ]
  },
  {
   "cell_type": "code",
   "execution_count": 13,
   "metadata": {},
   "outputs": [
    {
     "name": "stdout",
     "output_type": "stream",
     "text": [
      "313/313 [==============================] - 1s 3ms/step - loss: 0.0950 - accuracy: 0.9717\n",
      "Test loss: 0.09500071406364441\n",
      "Test accuracy: 0.9717000126838684\n"
     ]
    }
   ],
   "source": [
    "score = model.evaluate(X_test, y_test)\n",
    "print('Test loss:', score[0])\n",
    "print('Test accuracy:', score[1])"
   ]
  },
  {
   "cell_type": "code",
   "execution_count": null,
   "metadata": {},
   "outputs": [],
   "source": []
  }
 ],
 "metadata": {
  "kernelspec": {
   "display_name": "Python 3",
   "language": "python",
   "name": "python3"
  },
  "language_info": {
   "codemirror_mode": {
    "name": "ipython",
    "version": 3
   },
   "file_extension": ".py",
   "mimetype": "text/x-python",
   "name": "python",
   "nbconvert_exporter": "python",
   "pygments_lexer": "ipython3",
   "version": "3.8.5"
  }
 },
 "nbformat": 4,
 "nbformat_minor": 4
}
